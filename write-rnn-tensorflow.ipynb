{
 "cells": [
  {
   "cell_type": "markdown",
   "metadata": {},
   "source": [
    "## 事前準備\n",
    "[原始資料](https://github.com/hardmaru/write-rnn-tensorflow)\n",
    "1. 下載原始檔案並解壓縮\n",
    "2. 由[此處](http://www.fki.inf.unibe.ch/databases/iam-on-line-handwriting-database) 註冊後\n",
    "3. 至 [IAM在線手寫數據庫](http://www.fki.inf.unibe.ch/databases/iam-on-line-handwriting-database/download-the-iam-on-line-handwriting-database) 下載 data / lineStrokes-all.tar.gz\n",
    "4. 解壓縮 lineStrokes-all.tar.gz 後，將 lineStrokes-all 重新命名成 data並搬移到 write-rnn-tensorflow-master 資料夾中\n",
    "<pre>\n",
    "write-rnn-tensorflow-master\n",
    "|--data\n",
    "|  |--lineStrokes\n",
    "|  |  |--a01\n",
    "|  |  |--a02\n",
    "...\n",
    "|  |  |--z01\n",
    "</pre>\n"
   ]
  },
  {
   "cell_type": "markdown",
   "metadata": {},
   "source": [
    "## 環境\n",
    "\n",
    "1. 建立虛擬環境 \\$ virtualenv aiVenv \n",
    "2. 啟動虛擬環境 \\$ source ~/webapps/virtualenv/aiVenv/bin/activate\n",
    "3. 安裝 tensorflow \\$ pip install tensorflow\n",
    "\n",
    "## requirements.txt\n",
    "tensorflow==0.12.1\\\n",
    "svgwrite==1.3.1\n"
   ]
  },
  {
   "cell_type": "code",
   "execution_count": 2,
   "metadata": {
    "scrolled": true
   },
   "outputs": [
    {
     "ename": "AttributeError",
     "evalue": "module 'tensorflow.contrib.rnn' has no attribute 'MultiRNNCell'",
     "output_type": "error",
     "traceback": [
      "\u001b[0;31m---------------------------------------------------------------------------\u001b[0m",
      "\u001b[0;31mAttributeError\u001b[0m                            Traceback (most recent call last)",
      "\u001b[0;32m~/ai/write-rnn-tensorflow-master/sample.py\u001b[0m in \u001b[0;36m<module>\u001b[0;34m\u001b[0m\n\u001b[1;32m     32\u001b[0m     \u001b[0msaved_args\u001b[0m \u001b[0;34m=\u001b[0m \u001b[0mpickle\u001b[0m\u001b[0;34m.\u001b[0m\u001b[0mload\u001b[0m\u001b[0;34m(\u001b[0m\u001b[0mf\u001b[0m\u001b[0;34m)\u001b[0m\u001b[0;34m\u001b[0m\u001b[0;34m\u001b[0m\u001b[0m\n\u001b[1;32m     33\u001b[0m \u001b[0;34m\u001b[0m\u001b[0m\n\u001b[0;32m---> 34\u001b[0;31m \u001b[0mmodel\u001b[0m \u001b[0;34m=\u001b[0m \u001b[0mModel\u001b[0m\u001b[0;34m(\u001b[0m\u001b[0msaved_args\u001b[0m\u001b[0;34m,\u001b[0m \u001b[0;32mTrue\u001b[0m\u001b[0;34m)\u001b[0m\u001b[0;34m\u001b[0m\u001b[0;34m\u001b[0m\u001b[0m\n\u001b[0m\u001b[1;32m     35\u001b[0m \u001b[0msess\u001b[0m \u001b[0;34m=\u001b[0m \u001b[0mtf\u001b[0m\u001b[0;34m.\u001b[0m\u001b[0mInteractiveSession\u001b[0m\u001b[0;34m(\u001b[0m\u001b[0;34m)\u001b[0m\u001b[0;34m\u001b[0m\u001b[0;34m\u001b[0m\u001b[0m\n\u001b[1;32m     36\u001b[0m \u001b[0;31m#saver = tf.train.Saver(tf.all_variables())\u001b[0m\u001b[0;34m\u001b[0m\u001b[0;34m\u001b[0m\u001b[0;34m\u001b[0m\u001b[0m\n",
      "\u001b[0;32m~/ai/write-rnn-tensorflow-master/model.py\u001b[0m in \u001b[0;36m__init__\u001b[0;34m(self, args, infer)\u001b[0m\n\u001b[1;32m     23\u001b[0m             \u001b[0;32mreturn\u001b[0m \u001b[0mcell_fn\u001b[0m\u001b[0;34m(\u001b[0m\u001b[0margs\u001b[0m\u001b[0;34m.\u001b[0m\u001b[0mrnn_size\u001b[0m\u001b[0;34m,\u001b[0m \u001b[0mstate_is_tuple\u001b[0m\u001b[0;34m=\u001b[0m\u001b[0;32mFalse\u001b[0m\u001b[0;34m)\u001b[0m\u001b[0;34m\u001b[0m\u001b[0;34m\u001b[0m\u001b[0m\n\u001b[1;32m     24\u001b[0m \u001b[0;34m\u001b[0m\u001b[0m\n\u001b[0;32m---> 25\u001b[0;31m         cell = tf.contrib.rnn.MultiRNNCell(\n\u001b[0m\u001b[1;32m     26\u001b[0m             [get_cell() for _ in range(args.num_layers)])\n\u001b[1;32m     27\u001b[0m \u001b[0;34m\u001b[0m\u001b[0m\n",
      "\u001b[0;31mAttributeError\u001b[0m: module 'tensorflow.contrib.rnn' has no attribute 'MultiRNNCell'"
     ]
    }
   ],
   "source": [
    "%run -i sample.py"
   ]
  },
  {
   "cell_type": "markdown",
   "metadata": {},
   "source": [
    "## 程式升級\n",
    "1. ~~克隆tensorflow / models git存儲庫 \\$ git clone --branch r1.13.0 --depth 1 https://github.com/tensorflow/models ~~\n",
    "2. ~~ 將程式從[文件從1.x轉換為2.0](https://www.tensorflow.org/guide/upgrade) ~~\n",
    "```\n",
    "$ tf_upgrade_v2 --infile sample.py --outfile sample2.py\n",
    "$ tf_upgrade_v2 --infile model.py --outfile model2.py\n",
    "```\n",
    "3. ~~ 將 sample2.py 第五行改成 ```from model2 import Model```~~~\n",
    "4. ~~ 在 import 後第一行添加 ```tf.compat.v1.disable_eager_execution()```~~\n"
   ]
  }
 ],
 "metadata": {
  "kernelspec": {
   "display_name": "aiVenv",
   "language": "python",
   "name": "aivenv"
  },
  "language_info": {
   "codemirror_mode": {
    "name": "ipython",
    "version": 3
   },
   "file_extension": ".py",
   "mimetype": "text/x-python",
   "name": "python",
   "nbconvert_exporter": "python",
   "pygments_lexer": "ipython3",
   "version": "3.6.9"
  }
 },
 "nbformat": 4,
 "nbformat_minor": 2
}
