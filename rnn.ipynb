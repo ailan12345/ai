{
 "cells": [
  {
   "cell_type": "markdown",
   "metadata": {},
   "source": [
    "# 環境\n",
    "- Ubuntu 18.04.3 LTS\n",
    "- 使用 jupyter\n",
    "- Python 3.7"
   ]
  },
  {
   "cell_type": "markdown",
   "metadata": {},
   "source": [
    "~~ curl https://raw.githubusercontent.com/tensorflow/magenta/master/magenta/tools/magenta-install.sh > /tmp/magenta-install.sh\n",
    "bash /tmp/magenta-install.sh ~~\\\n",
    "[github](https://github.com/tensorflow/magenta/tree/master/magenta/models/sketch_rnn)\n",
    "1. \\$ pip install magenta==1.2.2\n",
    "2. \\$ pip install tensorflow==2.0.0\n",
    "3. \\$ pip install svgwrite==1.3.1\n",
    "3. 安裝 Anaconda\n",
    " - [官網](https://www.anaconda.com)\n",
    " - $ bash <下載回來的檔名>\n"
   ]
  },
  {
   "cell_type": "markdown",
   "metadata": {},
   "source": [
    "# 解決\n",
    "- No module named 'tensorflow.models'\n",
    " 1. $ git clone https://github.com/tensorflow/models\n",
    " 2. 進入 python shell 取得 tensorflow 資料夾路徑\n",
    " ```\n",
    "  import tensorflow as tf\n",
    "  tf.__path__\n",
    " ```\n",
    " 3. \\$ mv models/ <tensorflow 資料夾路徑>\n",
    "- ModuleNotFoundError: No module named 'tensorflow.models.rnn'\n",
    " 1. model.py 2 行 改成 ```from tensorflow.models.tutorials.rnn import rnn_cell ```\n"
   ]
  },
  {
   "cell_type": "code",
   "execution_count": 2,
   "metadata": {},
   "outputs": [
    {
     "data": {
      "text/plain": [
       "['/home/ailan/anaconda3/lib/python3.7/site-packages/tensorflow']"
      ]
     },
     "execution_count": 2,
     "metadata": {},
     "output_type": "execute_result"
    }
   ],
   "source": [
    "import tensorflow as tf\n",
    "tf.__path__\n"
   ]
  },
  {
   "cell_type": "code",
   "execution_count": 7,
   "metadata": {},
   "outputs": [
    {
     "name": "stdout",
     "output_type": "stream",
     "text": [
      "INFO line 32:22: Renamed 'tf.placeholder' to 'tf.compat.v1.placeholder'\r\n",
      "INFO line 33:23: Renamed 'tf.placeholder' to 'tf.compat.v1.placeholder'\r\n",
      "INFO line 39:9: Renamed 'tf.variable_scope' to 'tf.compat.v1.variable_scope'\r\n",
      "WARNING line 40:17: tf.get_variable requires manual check. tf.get_variable returns ResourceVariables by default in 2.0, which have well-defined semantics and are stricter about shapes. You can disable this behavior by passing use_resource=False, or by calling tf.compat.v1.disable_resource_variables().\r\n",
      "INFO line 40:17: Renamed 'tf.get_variable' to 'tf.compat.v1.get_variable'\r\n",
      "WARNING line 41:17: tf.get_variable requires manual check. tf.get_variable returns ResourceVariables by default in 2.0, which have well-defined semantics and are stricter about shapes. You can disable this behavior by passing use_resource=False, or by calling tf.compat.v1.disable_resource_variables().\r\n",
      "INFO line 41:17: Renamed 'tf.get_variable' to 'tf.compat.v1.get_variable'\r\n",
      "INFO line 57:15: Added keywords to args of function 'tf.transpose'\r\n",
      "INFO line 62:11: Renamed 'tf.variable_scope' to 'tf.compat.v1.variable_scope'\r\n",
      "INFO line 70:12: Renamed 'tf.get_variable_scope' to 'tf.compat.v1.get_variable_scope'\r\n",
      "INFO line 95:13: Renamed 'tf.nn.xw_plus_b' to 'tf.compat.v1.nn.xw_plus_b'\r\n",
      "INFO line 113:20: Renamed 'tf.div' to 'tf.compat.v1.div'\r\n",
      "INFO line 113:49: Renamed 'tf.div' to 'tf.compat.v1.div'\r\n",
      "INFO line 113:70: Renamed 'tf.div' to 'tf.compat.v1.div'\r\n",
      "INFO line 115:22: Renamed 'tf.div' to 'tf.compat.v1.div'\r\n",
      "INFO line 117:15: Renamed 'tf.div' to 'tf.compat.v1.div'\r\n",
      "INFO line 125:16: Added keywords to args of function 'tf.reduce_sum'\r\n",
      "INFO line 125:16: Renamed keyword argument for tf.reduce_sum from keep_dims to keepdims\r\n",
      "INFO line 126:17: Renamed 'tf.log' to 'tf.math.log'\r\n",
      "INFO line 127:21: Added keywords to args of function 'tf.reduce_mean'\r\n",
      "INFO line 129:16: Added keywords to args of function 'tf.nn.softmax_cross_entropy_with_logits'\r\n",
      "INFO line 129:16: Removed argument _sentinel for function tf.nn.softmax_cross_entropy_with_logits\r\n",
      "INFO line 129:16: Changing labels arg of tf.nn.softmax_cross_entropy_with_logits to tf.stop_gradient(labels). Please check this transformation.\r\n",
      "\r\n",
      "INFO line 132:19: Added keywords to args of function 'tf.reduce_mean'\r\n",
      "INFO line 148:15: Added keywords to args of function 'tf.reduce_max'\r\n",
      "INFO line 148:15: Renamed keyword argument for tf.reduce_max from keep_dims to keepdims\r\n",
      "INFO line 151:28: Added keywords to args of function 'tf.reduce_sum'\r\n",
      "INFO line 151:28: Renamed keyword argument for tf.reduce_sum from keep_dims to keepdims\r\n",
      "INFO line 177:12: Renamed 'tf.trainable_variables' to 'tf.compat.v1.trainable_variables'\r\n",
      "INFO line 178:38: Added keywords to args of function 'tf.gradients'\r\n",
      "INFO line 179:16: Renamed 'tf.train.AdamOptimizer' to 'tf.compat.v1.train.AdamOptimizer'\r\n",
      "TensorFlow 2.0 Upgrade Script\r\n",
      "-----------------------------\r\n",
      "Converted 1 files\r\n",
      "Detected 2 issues that require attention\r\n",
      "--------------------------------------------------------------------------------\r\n",
      "--------------------------------------------------------------------------------\r\n",
      "File: model.py\r\n",
      "--------------------------------------------------------------------------------\r\n",
      "model.py:40:17: WARNING: tf.get_variable requires manual check. tf.get_variable returns ResourceVariables by default in 2.0, which have well-defined semantics and are stricter about shapes. You can disable this behavior by passing use_resource=False, or by calling tf.compat.v1.disable_resource_variables().\r\n",
      "model.py:41:17: WARNING: tf.get_variable requires manual check. tf.get_variable returns ResourceVariables by default in 2.0, which have well-defined semantics and are stricter about shapes. You can disable this behavior by passing use_resource=False, or by calling tf.compat.v1.disable_resource_variables().\r\n",
      "\r\n",
      "\r\n",
      "Make sure to read the detailed log 'report.txt'\r\n",
      "\r\n"
     ]
    }
   ],
   "source": [
    "!tf_upgrade_v2 --infile model.py --outfile model2.py"
   ]
  },
  {
   "cell_type": "code",
   "execution_count": 9,
   "metadata": {},
   "outputs": [
    {
     "name": "stdout",
     "output_type": "stream",
     "text": [
      "INFO line 62:7: Renamed 'tf.Session' to 'tf.compat.v1.Session'\r\n",
      "INFO line 64:4: Renamed 'tf.initialize_all_variables' to 'tf.compat.v1.initialize_all_variables'\r\n",
      "INFO line 65:12: Renamed 'tf.train.Saver' to 'tf.compat.v1.train.Saver'\r\n",
      "INFO line 65:27: Renamed 'tf.all_variables' to 'tf.compat.v1.all_variables'\r\n",
      "WARNING line 75:6: *.save requires manual check. (This warning is only applicable if the code saves a tf.Keras model) Keras model.save now saves to the Tensorflow SavedModel format by default, instead of HDF5. To continue saving to HDF5, add the argument save_format='h5' to the save() function.\r\n",
      "INFO line 79:15: Renamed 'tf.assign' to 'tf.compat.v1.assign'\r\n",
      "TensorFlow 2.0 Upgrade Script\r\n",
      "-----------------------------\r\n",
      "Converted 1 files\r\n",
      "Detected 1 issues that require attention\r\n",
      "--------------------------------------------------------------------------------\r\n",
      "--------------------------------------------------------------------------------\r\n",
      "File: train.py\r\n",
      "--------------------------------------------------------------------------------\r\n",
      "train.py:75:6: WARNING: *.save requires manual check. (This warning is only applicable if the code saves a tf.Keras model) Keras model.save now saves to the Tensorflow SavedModel format by default, instead of HDF5. To continue saving to HDF5, add the argument save_format='h5' to the save() function.\r\n",
      "\r\n",
      "\r\n",
      "Make sure to read the detailed log 'report.txt'\r\n",
      "\r\n"
     ]
    }
   ],
   "source": [
    "!tf_upgrade_v2 --infile train.py --outfile train2.py"
   ]
  },
  {
   "cell_type": "code",
   "execution_count": 11,
   "metadata": {},
   "outputs": [
    {
     "ename": "ModuleNotFoundError",
     "evalue": "No module named 'tensorflow.models.rnn'",
     "output_type": "error",
     "traceback": [
      "\u001b[0;31m---------------------------------------------------------------------------\u001b[0m",
      "\u001b[0;31mModuleNotFoundError\u001b[0m                       Traceback (most recent call last)",
      "\u001b[0;32m~/ai/sketch-rnn/train2.py\u001b[0m in \u001b[0;36m<module>\u001b[0;34m\u001b[0m\n\u001b[1;32m      9\u001b[0m \u001b[0;34m\u001b[0m\u001b[0m\n\u001b[1;32m     10\u001b[0m \u001b[0;32mfrom\u001b[0m \u001b[0mutils\u001b[0m \u001b[0;32mimport\u001b[0m \u001b[0mSketchLoader\u001b[0m\u001b[0;34m\u001b[0m\u001b[0;34m\u001b[0m\u001b[0m\n\u001b[0;32m---> 11\u001b[0;31m \u001b[0;32mfrom\u001b[0m \u001b[0mmodel2\u001b[0m \u001b[0;32mimport\u001b[0m \u001b[0mModel\u001b[0m\u001b[0;34m\u001b[0m\u001b[0;34m\u001b[0m\u001b[0m\n\u001b[0m\u001b[1;32m     12\u001b[0m \u001b[0;34m\u001b[0m\u001b[0m\n\u001b[1;32m     13\u001b[0m \u001b[0;32mdef\u001b[0m \u001b[0mmain\u001b[0m\u001b[0;34m(\u001b[0m\u001b[0;34m)\u001b[0m\u001b[0;34m:\u001b[0m\u001b[0;34m\u001b[0m\u001b[0;34m\u001b[0m\u001b[0m\n",
      "\u001b[0;32m~/ai/sketch-rnn/model2.py\u001b[0m in \u001b[0;36m<module>\u001b[0;34m\u001b[0m\n\u001b[1;32m      1\u001b[0m \u001b[0;32mimport\u001b[0m \u001b[0mtensorflow\u001b[0m \u001b[0;32mas\u001b[0m \u001b[0mtf\u001b[0m\u001b[0;34m\u001b[0m\u001b[0;34m\u001b[0m\u001b[0m\n\u001b[1;32m      2\u001b[0m \u001b[0;31m# from tensorflow.models.rnn import rnn_cell\u001b[0m\u001b[0;34m\u001b[0m\u001b[0;34m\u001b[0m\u001b[0;34m\u001b[0m\u001b[0m\n\u001b[0;32m----> 3\u001b[0;31m \u001b[0;32mfrom\u001b[0m \u001b[0mtensorflow\u001b[0m\u001b[0;34m.\u001b[0m\u001b[0mmodels\u001b[0m\u001b[0;34m.\u001b[0m\u001b[0mrnn\u001b[0m \u001b[0;32mimport\u001b[0m \u001b[0mrnn_cell\u001b[0m\u001b[0;34m\u001b[0m\u001b[0;34m\u001b[0m\u001b[0m\n\u001b[0m\u001b[1;32m      4\u001b[0m \u001b[0;32mimport\u001b[0m \u001b[0mnumpy\u001b[0m \u001b[0;32mas\u001b[0m \u001b[0mnp\u001b[0m\u001b[0;34m\u001b[0m\u001b[0;34m\u001b[0m\u001b[0m\n\u001b[1;32m      5\u001b[0m \u001b[0;32mimport\u001b[0m \u001b[0mrandom\u001b[0m\u001b[0;34m\u001b[0m\u001b[0;34m\u001b[0m\u001b[0m\n",
      "\u001b[0;31mModuleNotFoundError\u001b[0m: No module named 'tensorflow.models.rnn'"
     ]
    }
   ],
   "source": [
    "%run -i train2.py"
   ]
  }
 ],
 "metadata": {
  "kernelspec": {
   "display_name": "Python 3",
   "language": "python",
   "name": "python3"
  },
  "language_info": {
   "codemirror_mode": {
    "name": "ipython",
    "version": 3
   },
   "file_extension": ".py",
   "mimetype": "text/x-python",
   "name": "python",
   "nbconvert_exporter": "python",
   "pygments_lexer": "ipython3",
   "version": "3.7.4"
  }
 },
 "nbformat": 4,
 "nbformat_minor": 2
}
